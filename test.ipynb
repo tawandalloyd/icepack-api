{
 "cells": [
  {
   "cell_type": "code",
   "execution_count": null,
   "metadata": {},
   "outputs": [],
   "source": [
    "import pandas\n",
    "df = pandas.read_csv('sample_data/publist.csv')\n",
    "print(df.head())"
   ]
  },
  {
   "cell_type": "code",
   "execution_count": null,
   "metadata": {},
   "outputs": [],
   "source": [
    "from apiHelper import apiHelper  # Assuming 'apiHelper.py' is in the same directory\n",
    "import tsp_mcvfz472gty6_pb2\n",
    "import pandas\n",
    "df = pandas.read_csv('sample_data/publist.csv')\n",
    "\n",
    "api = apiHelper(modelType=\"tsp-mcvfz472gty6\")\n",
    "\n",
    "sr = tsp_mcvfz472gty6_pb2.SolveRequest()\n",
    "sr.solveType = 0\n",
    "\n",
    "m = sr.model\n",
    "\n",
    "# or add them individually \n",
    "for index, row in df.iterrows():\n",
    "  l = tsp_mcvfz472gty6_pb2.Geocode()\n",
    "  l.id = row['id']\n",
    "  l.x = row['X']\n",
    "  l.y = row['Y']\n",
    "  m.points.append(l)  \n",
    "\n",
    "print(m) "
   ]
  },
  {
   "cell_type": "code",
   "execution_count": 4,
   "metadata": {},
   "outputs": [
    {
     "name": "stdout",
     "output_type": "stream",
     "text": [
      "Unexpected http error code: 404\n",
      "b'{\"message\":\"request not found\"}\\n'\n"
     ]
    },
    {
     "ename": "SystemExit",
     "evalue": "Unexpected http error code: 404 \n {\"message\":\"request not found\"}\n",
     "output_type": "error",
     "traceback": [
      "An exception has occurred, use %tb to see the full traceback.\n",
      "\u001b[1;31mSystemExit\u001b[0m\u001b[1;31m:\u001b[0m Unexpected http error code: 404 \n {\"message\":\"request not found\"}\n\n"
     ]
    },
    {
     "name": "stderr",
     "output_type": "stream",
     "text": [
      "C:\\Users\\Tawanda\\AppData\\Roaming\\Python\\Python311\\site-packages\\IPython\\core\\interactiveshell.py:3516: UserWarning: To exit: use 'exit', 'quit', or Ctrl-D.\n",
      "  warn(\"To exit: use 'exit', 'quit', or Ctrl-D.\", stacklevel=1)\n"
     ]
    }
   ],
   "source": [
    "from apiHelper import apiHelper  \n",
    "import tsp_mcvfz472gty6_pb2\n",
    "import pandas\n",
    "df = pandas.read_csv('sample_data/publist.csv')\n",
    "\n",
    "api = apiHelper(modelType=\"tsp-mcvfz472gty6\")\n",
    "\n",
    "sr = tsp_mcvfz472gty6_pb2.SolveRequest()\n",
    "\n",
    "reqId = api.Post(sr)\n",
    "print(reqId) # geting the reqid"
   ]
  },
  {
   "cell_type": "code",
   "execution_count": null,
   "metadata": {},
   "outputs": [],
   "source": []
  }
 ],
 "metadata": {
  "kernelspec": {
   "display_name": "base",
   "language": "python",
   "name": "python3"
  },
  "language_info": {
   "codemirror_mode": {
    "name": "ipython",
    "version": 3
   },
   "file_extension": ".py",
   "mimetype": "text/x-python",
   "name": "python",
   "nbconvert_exporter": "python",
   "pygments_lexer": "ipython3",
   "version": "3.11.5"
  }
 },
 "nbformat": 4,
 "nbformat_minor": 2
}
